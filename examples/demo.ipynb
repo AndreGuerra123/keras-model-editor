{
 "cells": [
  {
   "cell_type": "code",
   "execution_count": 1,
   "metadata": {},
   "outputs": [
    {
     "name": "stderr",
     "output_type": "stream",
     "text": [
      "Using TensorFlow backend.\n"
     ]
    }
   ],
   "source": [
    "import keras\n",
    "from keras.applications.vgg16 import VGG16"
   ]
  },
  {
   "cell_type": "code",
   "execution_count": 2,
   "metadata": {},
   "outputs": [
    {
     "name": "stdout",
     "output_type": "stream",
     "text": [
      "WARNING:tensorflow:From /srv/conda/lib/python3.6/site-packages/keras/backend/tensorflow_backend.py:1047: calling reduce_prod (from tensorflow.python.ops.math_ops) with keep_dims is deprecated and will be removed in a future version.\n",
      "Instructions for updating:\n",
      "keep_dims is deprecated, use keepdims instead\n",
      "____________________________________________________________________________________________________\n",
      "Layer (type)                     Output Shape          Param #     Connected to                     \n",
      "====================================================================================================\n",
      "input_1 (InputLayer)             (None, 224, 224, 3)   0                                            \n",
      "____________________________________________________________________________________________________\n",
      "block1_conv1 (Convolution2D)     (None, 224, 224, 64)  1792        input_1[0][0]                    \n",
      "____________________________________________________________________________________________________\n",
      "block1_conv2 (Convolution2D)     (None, 224, 224, 64)  36928       block1_conv1[0][0]               \n",
      "____________________________________________________________________________________________________\n",
      "block1_pool (MaxPooling2D)       (None, 112, 112, 64)  0           block1_conv2[0][0]               \n",
      "____________________________________________________________________________________________________\n",
      "block2_conv1 (Convolution2D)     (None, 112, 112, 128) 73856       block1_pool[0][0]                \n",
      "____________________________________________________________________________________________________\n",
      "block2_conv2 (Convolution2D)     (None, 112, 112, 128) 147584      block2_conv1[0][0]               \n",
      "____________________________________________________________________________________________________\n",
      "block2_pool (MaxPooling2D)       (None, 56, 56, 128)   0           block2_conv2[0][0]               \n",
      "____________________________________________________________________________________________________\n",
      "block3_conv1 (Convolution2D)     (None, 56, 56, 256)   295168      block2_pool[0][0]                \n",
      "____________________________________________________________________________________________________\n",
      "block3_conv2 (Convolution2D)     (None, 56, 56, 256)   590080      block3_conv1[0][0]               \n",
      "____________________________________________________________________________________________________\n",
      "block3_conv3 (Convolution2D)     (None, 56, 56, 256)   590080      block3_conv2[0][0]               \n",
      "____________________________________________________________________________________________________\n",
      "block3_pool (MaxPooling2D)       (None, 28, 28, 256)   0           block3_conv3[0][0]               \n",
      "____________________________________________________________________________________________________\n",
      "block4_conv1 (Convolution2D)     (None, 28, 28, 512)   1180160     block3_pool[0][0]                \n",
      "____________________________________________________________________________________________________\n",
      "block4_conv2 (Convolution2D)     (None, 28, 28, 512)   2359808     block4_conv1[0][0]               \n",
      "____________________________________________________________________________________________________\n",
      "block4_conv3 (Convolution2D)     (None, 28, 28, 512)   2359808     block4_conv2[0][0]               \n",
      "____________________________________________________________________________________________________\n",
      "block4_pool (MaxPooling2D)       (None, 14, 14, 512)   0           block4_conv3[0][0]               \n",
      "____________________________________________________________________________________________________\n",
      "block5_conv1 (Convolution2D)     (None, 14, 14, 512)   2359808     block4_pool[0][0]                \n",
      "____________________________________________________________________________________________________\n",
      "block5_conv2 (Convolution2D)     (None, 14, 14, 512)   2359808     block5_conv1[0][0]               \n",
      "____________________________________________________________________________________________________\n",
      "block5_conv3 (Convolution2D)     (None, 14, 14, 512)   2359808     block5_conv2[0][0]               \n",
      "____________________________________________________________________________________________________\n",
      "block5_pool (MaxPooling2D)       (None, 7, 7, 512)     0           block5_conv3[0][0]               \n",
      "____________________________________________________________________________________________________\n",
      "flatten (Flatten)                (None, 25088)         0           block5_pool[0][0]                \n",
      "____________________________________________________________________________________________________\n",
      "fc1 (Dense)                      (None, 4096)          102764544   flatten[0][0]                    \n",
      "____________________________________________________________________________________________________\n",
      "fc2 (Dense)                      (None, 4096)          16781312    fc1[0][0]                        \n",
      "____________________________________________________________________________________________________\n",
      "predictions (Dense)              (None, 1000)          4097000     fc2[0][0]                        \n",
      "====================================================================================================\n",
      "Total params: 138,357,544\n",
      "Trainable params: 138,357,544\n",
      "Non-trainable params: 0\n",
      "____________________________________________________________________________________________________\n"
     ]
    }
   ],
   "source": [
    "big_fancy_model = VGG16(weights=None, input_shape=(224, 224, 3))\n",
    "big_fancy_model.summary()"
   ]
  },
  {
   "cell_type": "markdown",
   "metadata": {},
   "source": [
    "# Wrap the Model \n",
    "Here we wrap the model in the necessary HTML and JS so we can show it as a widget in jupyter"
   ]
  },
  {
   "cell_type": "code",
   "execution_count": 3,
   "metadata": {},
   "outputs": [],
   "source": [
    "from IPython.display import HTML\n",
    "HTML_TEMPLATE = \"\"\"<script type=\"text/javascript\" src=\"../dist/keras-model-editor.js\"></script>\n",
    "<style type=\"text/css\">\n",
    "      .model {\n",
    "        height: 300px;\n",
    "      }\n",
    "    </style>\n",
    "<div id=\"kerasmodel\" class=\"model\" height=\"300px\" width=\"100%%\"></div>\n",
    "<script type=\"text/javascript\">\n",
    "let kmodel = JSON.parse('%s');\n",
    "this.model = new KerasModelEditor(kmodel, 'kerasmodel', {\n",
    "        \"rankdir\": \"LR\", // \"LR\"  \"UD\"\n",
    "        \"nodesep\": 20,\n",
    "        \"edgesep\": 20,\n",
    "        \"ranksep\": 40,\n",
    "        \"marginx\": 0,\n",
    "        \"marginy\": 0\n",
    "      });\n",
    "\n",
    "this.model.show();\n",
    "</script>\n",
    "\"\"\""
   ]
  },
  {
   "cell_type": "code",
   "execution_count": 4,
   "metadata": {
    "scrolled": true
   },
   "outputs": [
    {
     "data": {
      "text/html": [
       "<script type=\"text/javascript\" src=\"../dist/keras-model-editor.js\"></script>\n",
       "<style type=\"text/css\">\n",
       "      .model {\n",
       "        height: 300px;\n",
       "      }\n",
       "    </style>\n",
       "<div id=\"kerasmodel\" class=\"model\" height=\"300px\" width=\"100%\"></div>\n",
       "<script type=\"text/javascript\">\n",
       "let kmodel = JSON.parse('{\"class_name\": \"Model\", \"config\": {\"name\": \"vgg16\", \"layers\": [{\"name\": \"input_1\", \"class_name\": \"InputLayer\", \"config\": {\"batch_input_shape\": [null, 224, 224, 3], \"input_dtype\": \"float32\", \"sparse\": false, \"name\": \"input_1\"}, \"inbound_nodes\": []}, {\"name\": \"block1_conv1\", \"class_name\": \"Convolution2D\", \"config\": {\"name\": \"block1_conv1\", \"trainable\": true, \"nb_filter\": 64, \"nb_row\": 3, \"nb_col\": 3, \"init\": \"glorot_uniform\", \"activation\": \"relu\", \"border_mode\": \"same\", \"subsample\": [1, 1], \"dim_ordering\": \"tf\", \"W_regularizer\": null, \"b_regularizer\": null, \"activity_regularizer\": null, \"W_constraint\": null, \"b_constraint\": null, \"bias\": true}, \"inbound_nodes\": [[[\"input_1\", 0, 0]]]}, {\"name\": \"block1_conv2\", \"class_name\": \"Convolution2D\", \"config\": {\"name\": \"block1_conv2\", \"trainable\": true, \"nb_filter\": 64, \"nb_row\": 3, \"nb_col\": 3, \"init\": \"glorot_uniform\", \"activation\": \"relu\", \"border_mode\": \"same\", \"subsample\": [1, 1], \"dim_ordering\": \"tf\", \"W_regularizer\": null, \"b_regularizer\": null, \"activity_regularizer\": null, \"W_constraint\": null, \"b_constraint\": null, \"bias\": true}, \"inbound_nodes\": [[[\"block1_conv1\", 0, 0]]]}, {\"name\": \"block1_pool\", \"class_name\": \"MaxPooling2D\", \"config\": {\"name\": \"block1_pool\", \"trainable\": true, \"pool_size\": [2, 2], \"border_mode\": \"valid\", \"strides\": [2, 2], \"dim_ordering\": \"tf\"}, \"inbound_nodes\": [[[\"block1_conv2\", 0, 0]]]}, {\"name\": \"block2_conv1\", \"class_name\": \"Convolution2D\", \"config\": {\"name\": \"block2_conv1\", \"trainable\": true, \"nb_filter\": 128, \"nb_row\": 3, \"nb_col\": 3, \"init\": \"glorot_uniform\", \"activation\": \"relu\", \"border_mode\": \"same\", \"subsample\": [1, 1], \"dim_ordering\": \"tf\", \"W_regularizer\": null, \"b_regularizer\": null, \"activity_regularizer\": null, \"W_constraint\": null, \"b_constraint\": null, \"bias\": true}, \"inbound_nodes\": [[[\"block1_pool\", 0, 0]]]}, {\"name\": \"block2_conv2\", \"class_name\": \"Convolution2D\", \"config\": {\"name\": \"block2_conv2\", \"trainable\": true, \"nb_filter\": 128, \"nb_row\": 3, \"nb_col\": 3, \"init\": \"glorot_uniform\", \"activation\": \"relu\", \"border_mode\": \"same\", \"subsample\": [1, 1], \"dim_ordering\": \"tf\", \"W_regularizer\": null, \"b_regularizer\": null, \"activity_regularizer\": null, \"W_constraint\": null, \"b_constraint\": null, \"bias\": true}, \"inbound_nodes\": [[[\"block2_conv1\", 0, 0]]]}, {\"name\": \"block2_pool\", \"class_name\": \"MaxPooling2D\", \"config\": {\"name\": \"block2_pool\", \"trainable\": true, \"pool_size\": [2, 2], \"border_mode\": \"valid\", \"strides\": [2, 2], \"dim_ordering\": \"tf\"}, \"inbound_nodes\": [[[\"block2_conv2\", 0, 0]]]}, {\"name\": \"block3_conv1\", \"class_name\": \"Convolution2D\", \"config\": {\"name\": \"block3_conv1\", \"trainable\": true, \"nb_filter\": 256, \"nb_row\": 3, \"nb_col\": 3, \"init\": \"glorot_uniform\", \"activation\": \"relu\", \"border_mode\": \"same\", \"subsample\": [1, 1], \"dim_ordering\": \"tf\", \"W_regularizer\": null, \"b_regularizer\": null, \"activity_regularizer\": null, \"W_constraint\": null, \"b_constraint\": null, \"bias\": true}, \"inbound_nodes\": [[[\"block2_pool\", 0, 0]]]}, {\"name\": \"block3_conv2\", \"class_name\": \"Convolution2D\", \"config\": {\"name\": \"block3_conv2\", \"trainable\": true, \"nb_filter\": 256, \"nb_row\": 3, \"nb_col\": 3, \"init\": \"glorot_uniform\", \"activation\": \"relu\", \"border_mode\": \"same\", \"subsample\": [1, 1], \"dim_ordering\": \"tf\", \"W_regularizer\": null, \"b_regularizer\": null, \"activity_regularizer\": null, \"W_constraint\": null, \"b_constraint\": null, \"bias\": true}, \"inbound_nodes\": [[[\"block3_conv1\", 0, 0]]]}, {\"name\": \"block3_conv3\", \"class_name\": \"Convolution2D\", \"config\": {\"name\": \"block3_conv3\", \"trainable\": true, \"nb_filter\": 256, \"nb_row\": 3, \"nb_col\": 3, \"init\": \"glorot_uniform\", \"activation\": \"relu\", \"border_mode\": \"same\", \"subsample\": [1, 1], \"dim_ordering\": \"tf\", \"W_regularizer\": null, \"b_regularizer\": null, \"activity_regularizer\": null, \"W_constraint\": null, \"b_constraint\": null, \"bias\": true}, \"inbound_nodes\": [[[\"block3_conv2\", 0, 0]]]}, {\"name\": \"block3_pool\", \"class_name\": \"MaxPooling2D\", \"config\": {\"name\": \"block3_pool\", \"trainable\": true, \"pool_size\": [2, 2], \"border_mode\": \"valid\", \"strides\": [2, 2], \"dim_ordering\": \"tf\"}, \"inbound_nodes\": [[[\"block3_conv3\", 0, 0]]]}, {\"name\": \"block4_conv1\", \"class_name\": \"Convolution2D\", \"config\": {\"name\": \"block4_conv1\", \"trainable\": true, \"nb_filter\": 512, \"nb_row\": 3, \"nb_col\": 3, \"init\": \"glorot_uniform\", \"activation\": \"relu\", \"border_mode\": \"same\", \"subsample\": [1, 1], \"dim_ordering\": \"tf\", \"W_regularizer\": null, \"b_regularizer\": null, \"activity_regularizer\": null, \"W_constraint\": null, \"b_constraint\": null, \"bias\": true}, \"inbound_nodes\": [[[\"block3_pool\", 0, 0]]]}, {\"name\": \"block4_conv2\", \"class_name\": \"Convolution2D\", \"config\": {\"name\": \"block4_conv2\", \"trainable\": true, \"nb_filter\": 512, \"nb_row\": 3, \"nb_col\": 3, \"init\": \"glorot_uniform\", \"activation\": \"relu\", \"border_mode\": \"same\", \"subsample\": [1, 1], \"dim_ordering\": \"tf\", \"W_regularizer\": null, \"b_regularizer\": null, \"activity_regularizer\": null, \"W_constraint\": null, \"b_constraint\": null, \"bias\": true}, \"inbound_nodes\": [[[\"block4_conv1\", 0, 0]]]}, {\"name\": \"block4_conv3\", \"class_name\": \"Convolution2D\", \"config\": {\"name\": \"block4_conv3\", \"trainable\": true, \"nb_filter\": 512, \"nb_row\": 3, \"nb_col\": 3, \"init\": \"glorot_uniform\", \"activation\": \"relu\", \"border_mode\": \"same\", \"subsample\": [1, 1], \"dim_ordering\": \"tf\", \"W_regularizer\": null, \"b_regularizer\": null, \"activity_regularizer\": null, \"W_constraint\": null, \"b_constraint\": null, \"bias\": true}, \"inbound_nodes\": [[[\"block4_conv2\", 0, 0]]]}, {\"name\": \"block4_pool\", \"class_name\": \"MaxPooling2D\", \"config\": {\"name\": \"block4_pool\", \"trainable\": true, \"pool_size\": [2, 2], \"border_mode\": \"valid\", \"strides\": [2, 2], \"dim_ordering\": \"tf\"}, \"inbound_nodes\": [[[\"block4_conv3\", 0, 0]]]}, {\"name\": \"block5_conv1\", \"class_name\": \"Convolution2D\", \"config\": {\"name\": \"block5_conv1\", \"trainable\": true, \"nb_filter\": 512, \"nb_row\": 3, \"nb_col\": 3, \"init\": \"glorot_uniform\", \"activation\": \"relu\", \"border_mode\": \"same\", \"subsample\": [1, 1], \"dim_ordering\": \"tf\", \"W_regularizer\": null, \"b_regularizer\": null, \"activity_regularizer\": null, \"W_constraint\": null, \"b_constraint\": null, \"bias\": true}, \"inbound_nodes\": [[[\"block4_pool\", 0, 0]]]}, {\"name\": \"block5_conv2\", \"class_name\": \"Convolution2D\", \"config\": {\"name\": \"block5_conv2\", \"trainable\": true, \"nb_filter\": 512, \"nb_row\": 3, \"nb_col\": 3, \"init\": \"glorot_uniform\", \"activation\": \"relu\", \"border_mode\": \"same\", \"subsample\": [1, 1], \"dim_ordering\": \"tf\", \"W_regularizer\": null, \"b_regularizer\": null, \"activity_regularizer\": null, \"W_constraint\": null, \"b_constraint\": null, \"bias\": true}, \"inbound_nodes\": [[[\"block5_conv1\", 0, 0]]]}, {\"name\": \"block5_conv3\", \"class_name\": \"Convolution2D\", \"config\": {\"name\": \"block5_conv3\", \"trainable\": true, \"nb_filter\": 512, \"nb_row\": 3, \"nb_col\": 3, \"init\": \"glorot_uniform\", \"activation\": \"relu\", \"border_mode\": \"same\", \"subsample\": [1, 1], \"dim_ordering\": \"tf\", \"W_regularizer\": null, \"b_regularizer\": null, \"activity_regularizer\": null, \"W_constraint\": null, \"b_constraint\": null, \"bias\": true}, \"inbound_nodes\": [[[\"block5_conv2\", 0, 0]]]}, {\"name\": \"block5_pool\", \"class_name\": \"MaxPooling2D\", \"config\": {\"name\": \"block5_pool\", \"trainable\": true, \"pool_size\": [2, 2], \"border_mode\": \"valid\", \"strides\": [2, 2], \"dim_ordering\": \"tf\"}, \"inbound_nodes\": [[[\"block5_conv3\", 0, 0]]]}, {\"name\": \"flatten\", \"class_name\": \"Flatten\", \"config\": {\"name\": \"flatten\", \"trainable\": true}, \"inbound_nodes\": [[[\"block5_pool\", 0, 0]]]}, {\"name\": \"fc1\", \"class_name\": \"Dense\", \"config\": {\"name\": \"fc1\", \"trainable\": true, \"output_dim\": 4096, \"init\": \"glorot_uniform\", \"activation\": \"relu\", \"W_regularizer\": null, \"b_regularizer\": null, \"activity_regularizer\": null, \"W_constraint\": null, \"b_constraint\": null, \"bias\": true, \"input_dim\": 25088}, \"inbound_nodes\": [[[\"flatten\", 0, 0]]]}, {\"name\": \"fc2\", \"class_name\": \"Dense\", \"config\": {\"name\": \"fc2\", \"trainable\": true, \"output_dim\": 4096, \"init\": \"glorot_uniform\", \"activation\": \"relu\", \"W_regularizer\": null, \"b_regularizer\": null, \"activity_regularizer\": null, \"W_constraint\": null, \"b_constraint\": null, \"bias\": true, \"input_dim\": 4096}, \"inbound_nodes\": [[[\"fc1\", 0, 0]]]}, {\"name\": \"predictions\", \"class_name\": \"Dense\", \"config\": {\"name\": \"predictions\", \"trainable\": true, \"output_dim\": 1000, \"init\": \"glorot_uniform\", \"activation\": \"softmax\", \"W_regularizer\": null, \"b_regularizer\": null, \"activity_regularizer\": null, \"W_constraint\": null, \"b_constraint\": null, \"bias\": true, \"input_dim\": 4096}, \"inbound_nodes\": [[[\"fc2\", 0, 0]]]}], \"input_layers\": [[\"input_1\", 0, 0]], \"output_layers\": [[\"predictions\", 0, 0]]}, \"keras_version\": \"1.2.2\"}');\n",
       "this.model = new KerasModelEditor(kmodel, 'kerasmodel', {\n",
       "        \"rankdir\": \"LR\", // \"LR\"  \"UD\"\n",
       "        \"nodesep\": 20,\n",
       "        \"edgesep\": 20,\n",
       "        \"ranksep\": 40,\n",
       "        \"marginx\": 0,\n",
       "        \"marginy\": 0\n",
       "      });\n",
       "\n",
       "this.model.show();\n",
       "</script>\n"
      ],
      "text/plain": [
       "<IPython.core.display.HTML object>"
      ]
     },
     "execution_count": 4,
     "metadata": {},
     "output_type": "execute_result"
    }
   ],
   "source": [
    "full_html = HTML_TEMPLATE % (big_fancy_model.to_json())\n",
    "HTML(full_html)"
   ]
  },
  {
   "cell_type": "code",
   "execution_count": 5,
   "metadata": {},
   "outputs": [],
   "source": [
    "with open('test.html', 'w') as f:\n",
    "    f.write(full_html)"
   ]
  },
  {
   "cell_type": "code",
   "execution_count": null,
   "metadata": {},
   "outputs": [],
   "source": []
  }
 ],
 "metadata": {
  "kernelspec": {
   "display_name": "Python 3",
   "language": "python",
   "name": "python3"
  },
  "language_info": {
   "codemirror_mode": {
    "name": "ipython",
    "version": 3
   },
   "file_extension": ".py",
   "mimetype": "text/x-python",
   "name": "python",
   "nbconvert_exporter": "python",
   "pygments_lexer": "ipython3",
   "version": "3.6.5"
  }
 },
 "nbformat": 4,
 "nbformat_minor": 2
}
